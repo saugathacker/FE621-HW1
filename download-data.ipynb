{
 "cells": [
  {
   "cell_type": "code",
   "execution_count": 1,
   "metadata": {},
   "outputs": [],
   "source": [
    "import yfinance as yf\n",
    "import pandas as pd\n",
    "from datetime import datetime"
   ]
  },
  {
   "cell_type": "markdown",
   "metadata": {},
   "source": [
    "## Downloading data from Yfinance"
   ]
  },
  {
   "cell_type": "code",
   "execution_count": null,
   "metadata": {},
   "outputs": [],
   "source": [
    "def download_options_data(tickers):\n",
    "    # third Friday of next 3 months for equities\n",
    "    expiration_dates_equity = [\"2025-02-21\", \"2025-03-21\", \"2025-04-17\"]\n",
    "    # VIX expiration dates (Wednesdays before equity expirations nearest date from third friday)\n",
    "    expiration_dates_vix = [\"2025-02-19\", \"2025-03-18\", \"2025-04-16\"]\n",
    "\n",
    "    # empty array to store all the downloaded options\n",
    "    all_options = []\n",
    "\n",
    "    # get today's date for time to maturity calculation\n",
    "    today = datetime.today()\n",
    "    # getting the interest rate through the closing price of 13 Week Treasury Bill\n",
    "    fed_funds = yf.Ticker(\"^IRX\").history(period=\"1d\")['Close'].iloc[-1]  \n",
    "\n",
    "    # iterating through the list of provided tickers\n",
    "    for ticker in tickers:\n",
    "        # changing the expiration if the ticker is VIX\n",
    "        expiration_dates = expiration_dates_vix if ticker == \"^VIX\" else expiration_dates_equity\n",
    "        try:\n",
    "            # fetch most recent 15-minute interval closing price fro spot price\n",
    "            spot_price = yf.Ticker(ticker).history(period=\"1d\", interval=\"15m\")[\"Close\"].iloc[-1]\n",
    "        except Exception as e:\n",
    "            # error handling for the spot price fetching\n",
    "            print(f\"Error fetching 15-min close price for {ticker}: {e}\")\n",
    "            spot_price = None  # Assign None if price fetch fails\n",
    "\n",
    "        # for each expirations dates getting the option data\n",
    "        for exp_date in expiration_dates:\n",
    "            try:\n",
    "                # convert expiration date to datetime datatype\n",
    "                exp_datetime = datetime.strptime(exp_date, \"%Y-%m-%d\")\n",
    "                time_to_maturity = (exp_datetime - today).days / 365.0  # Convert to years\n",
    "\n",
    "                # option chain from yfinance\n",
    "                option_chain = yf.Ticker(ticker).option_chain(exp_date)\n",
    "                # sperating the calls and puts chains\n",
    "                calls = option_chain.calls\n",
    "                puts = option_chain.puts\n",
    "\n",
    "                # add identifying columns\n",
    "                calls[\"ticker\"] = ticker\n",
    "                calls[\"expiration\"] = exp_date\n",
    "                calls[\"optionType\"] = \"Call\"\n",
    "                calls[\"timeToMaturity\"] = round(time_to_maturity, 6)\n",
    "                calls[\"spotPrice\"] = round(spot_price,6)\n",
    "\n",
    "                puts[\"ticker\"] = ticker\n",
    "                puts[\"expiration\"] = exp_date\n",
    "                puts[\"optionType\"] = \"Put\"\n",
    "                puts[\"timeToMaturity\"] = round(time_to_maturity, 6)\n",
    "                puts[\"spotPrice\"] = round(spot_price,6)\n",
    "\n",
    "                # combine calls & puts\n",
    "                all_options.append(calls)\n",
    "                all_options.append(puts)\n",
    "\n",
    "            except Exception as e:\n",
    "                print(f\"Error fetching options for {ticker} ({exp_date}): {e}\")\n",
    "\n",
    "    # combine all data into a single DataFrame\n",
    "    if not all_options:\n",
    "        return None\n",
    "\n",
    "    options_data = pd.concat(all_options, ignore_index=True)\n",
    "    # adding interest rate to all the option data\n",
    "    options_data[\"interestRate\"] = round(fed_funds, 6)\n",
    "\n",
    "    # rearrange columns and only getting the necessary fields\n",
    "    desired_columns = [\"ticker\", \"expiration\", \"timeToMaturity\", \"strike\", \"optionType\",\n",
    "                       \"lastPrice\", \"bid\", \"ask\", \"volume\", \"openInterest\", \"impliedVolatility\", \"inTheMoney\", \"spotPrice\", \"interestRate\"]\n",
    "    options_data = options_data[desired_columns]\n",
    "\n",
    "    return options_data"
   ]
  },
  {
   "cell_type": "code",
   "execution_count": null,
   "metadata": {},
   "outputs": [],
   "source": [
    "# get option data for these three tickers\n",
    "tickers = [\"NVDA\", \"SPY\", \"^VIX\"]\n",
    "options_data = download_options_data(tickers)"
   ]
  },
  {
   "cell_type": "markdown",
   "metadata": {},
   "source": [
    "### Save the data in the csv"
   ]
  },
  {
   "cell_type": "code",
   "execution_count": null,
   "metadata": {},
   "outputs": [],
   "source": [
    "# store it in a csv\n",
    "options_data.to_csv(\"options_data.csv\")"
   ]
  },
  {
   "cell_type": "markdown",
   "metadata": {},
   "source": [
    "## Downloading options using Bloomberg API"
   ]
  },
  {
   "cell_type": "code",
   "execution_count": null,
   "metadata": {},
   "outputs": [],
   "source": [
    "def get_option_data(tickers, output_file=\"options_data.csv\"):\n",
    "   \n",
    "    start_date = datetime.today()\n",
    "    cutoff_date = start_date + timedelta(days=90)\n",
    "\n",
    "\n",
    "    all_options = []\n",
    "\n",
    "    for ticker in tickers:\n",
    "        # get all option contracts\n",
    "        option_chain = blp.bds(f\"{ticker} Equity\", \"OPT_CHAIN\")\n",
    "\n",
    "        # continue to next ticker if no option is found\n",
    "        if option_chain.empty:\n",
    "            print(f\"No options found for {ticker}\")\n",
    "            continue\n",
    "\n",
    "        # extract option tickers\n",
    "        option_tickers = option_chain[\"security_description\"].tolist()\n",
    "\n",
    "        # fetch Market Data\n",
    "        fields = [\n",
    "            \"OPT_EXPIRE_DT\",\"OPT_STRIKE_PX\", \"OPT_PUT_CALL\",\n",
    "            \"PX_BID\", \"PX_ASK\", \"PX_MID\", \"PX_LAST\",  # Market prices\n",
    "            \"IVOL_LAST\", \"DELTA_LAST\", \"GAMMA_LAST\", \"VEGA_LAST\", \"THETA_LAST\", \"RHO_LAST\"  # Greeks\n",
    "        ]\n",
    "\n",
    "        # might have to iterate all the option_ticker\n",
    "        option_data = blp.bdp(option_tickers, fields)\n",
    "\n",
    "        if option_data.empty:\n",
    "            print(f\"No market data available for options of {ticker}\")\n",
    "            continue\n",
    "\n",
    "        # format DataFrame\n",
    "        option_data.reset_index(inplace=True)\n",
    "        option_data.rename(columns={\"index\": \"Option_Ticker\"}, inplace=True)\n",
    "\n",
    "        # convert Expiry Date to readable format\n",
    "        option_data[\"OPT_EXPIRE_DT\"] = pd.to_datetime(option_data[\"OPT_EXPIRE_DT\"])\n",
    "\n",
    "        # filter out the options expiring in the next three months\n",
    "        option_data = option_data[\n",
    "            (option_data[\"OPT_EXPIRE_DT\"] >= start_date) & \n",
    "            (option_data[\"OPT_EXPIRE_DT\"] <= cutoff_date)\n",
    "        ]\n",
    "\n",
    "        # store data\n",
    "        all_options.append(option_data)\n",
    "\n",
    "    # combine all options into one DataFrame\n",
    "    if all_options:\n",
    "        final_df = pd.concat(all_options, ignore_index=True)\n",
    "\n",
    "        # save to CSV\n",
    "        final_df.to_csv(output_file, index=False)\n",
    "        print(f\"Option data saved to {output_file}\")\n",
    "\n",
    "        return final_df\n",
    "    else:\n",
    "        print(\"No option data collected.\")\n",
    "        return pd.DataFrame()"
   ]
  },
  {
   "cell_type": "code",
   "execution_count": null,
   "metadata": {},
   "outputs": [],
   "source": [
    "# tickers for bloomberg api\n",
    "tickers = [\"SPY US Equity\", \"NVDA US Equity\", \"VIX Index\"]\n",
    "options_df = get_option_data(tickers, \"options_data.csv\")"
   ]
  }
 ],
 "metadata": {
  "kernelspec": {
   "display_name": "base",
   "language": "python",
   "name": "python3"
  },
  "language_info": {
   "codemirror_mode": {
    "name": "ipython",
    "version": 3
   },
   "file_extension": ".py",
   "mimetype": "text/x-python",
   "name": "python",
   "nbconvert_exporter": "python",
   "pygments_lexer": "ipython3",
   "version": "3.12.7"
  }
 },
 "nbformat": 4,
 "nbformat_minor": 2
}
