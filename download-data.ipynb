{
 "cells": [
  {
   "cell_type": "markdown",
   "metadata": {},
   "source": [
    "## Downloading data from Bloomberg API "
   ]
  },
  {
   "cell_type": "code",
   "execution_count": 2,
   "metadata": {},
   "outputs": [
    {
     "ename": "Skipped",
     "evalue": "could not import 'blpapi': No module named 'blpapi'",
     "output_type": "error",
     "traceback": [
      "\u001b[0;31m---------------------------------------------------------------------------\u001b[0m",
      "\u001b[0;31mSkipped\u001b[0m                                   Traceback (most recent call last)",
      "Cell \u001b[0;32mIn[2], line 1\u001b[0m\n\u001b[0;32m----> 1\u001b[0m \u001b[38;5;28;01mfrom\u001b[39;00m \u001b[38;5;21;01mxbbg\u001b[39;00m \u001b[38;5;28;01mimport\u001b[39;00m blp\n\u001b[1;32m      2\u001b[0m \u001b[38;5;28;01mimport\u001b[39;00m \u001b[38;5;21;01mpandas\u001b[39;00m \u001b[38;5;28;01mas\u001b[39;00m \u001b[38;5;21;01mpd\u001b[39;00m\n\u001b[1;32m      3\u001b[0m \u001b[38;5;28;01mfrom\u001b[39;00m \u001b[38;5;21;01mdatetime\u001b[39;00m \u001b[38;5;28;01mimport\u001b[39;00m datetime\n",
      "File \u001b[0;32m/opt/anaconda3/lib/python3.12/site-packages/xbbg/blp.py:9\u001b[0m\n\u001b[1;32m      7\u001b[0m \u001b[38;5;28;01mfrom\u001b[39;00m \u001b[38;5;21;01mxbbg\u001b[39;00m \u001b[38;5;28;01mimport\u001b[39;00m __version__, const, pipeline\n\u001b[1;32m      8\u001b[0m \u001b[38;5;28;01mfrom\u001b[39;00m \u001b[38;5;21;01mxbbg\u001b[39;00m\u001b[38;5;21;01m.\u001b[39;00m\u001b[38;5;21;01mio\u001b[39;00m \u001b[38;5;28;01mimport\u001b[39;00m logs, files, storage\n\u001b[0;32m----> 9\u001b[0m \u001b[38;5;28;01mfrom\u001b[39;00m \u001b[38;5;21;01mxbbg\u001b[39;00m\u001b[38;5;21;01m.\u001b[39;00m\u001b[38;5;21;01mcore\u001b[39;00m \u001b[38;5;28;01mimport\u001b[39;00m utils, conn, process\n\u001b[1;32m     10\u001b[0m \u001b[38;5;28;01mfrom\u001b[39;00m \u001b[38;5;21;01mxbbg\u001b[39;00m\u001b[38;5;21;01m.\u001b[39;00m\u001b[38;5;21;01mcore\u001b[39;00m\u001b[38;5;21;01m.\u001b[39;00m\u001b[38;5;21;01mconn\u001b[39;00m \u001b[38;5;28;01mimport\u001b[39;00m connect\n\u001b[1;32m     12\u001b[0m __all__ \u001b[38;5;241m=\u001b[39m [\n\u001b[1;32m     13\u001b[0m     \u001b[38;5;124m'\u001b[39m\u001b[38;5;124m__version__\u001b[39m\u001b[38;5;124m'\u001b[39m,\n\u001b[1;32m     14\u001b[0m     \u001b[38;5;124m'\u001b[39m\u001b[38;5;124mconnect\u001b[39m\u001b[38;5;124m'\u001b[39m,\n\u001b[0;32m   (...)\u001b[0m\n\u001b[1;32m     26\u001b[0m     \u001b[38;5;124m'\u001b[39m\u001b[38;5;124mturnover\u001b[39m\u001b[38;5;124m'\u001b[39m,\n\u001b[1;32m     27\u001b[0m ]\n",
      "File \u001b[0;32m/opt/anaconda3/lib/python3.12/site-packages/xbbg/core/conn.py:19\u001b[0m\n\u001b[1;32m     17\u001b[0m \u001b[38;5;28;01mexcept\u001b[39;00m (\u001b[38;5;167;01mImportError\u001b[39;00m, \u001b[38;5;167;01mAttributeError\u001b[39;00m):\n\u001b[1;32m     18\u001b[0m     \u001b[38;5;28;01mimport\u001b[39;00m \u001b[38;5;21;01mpytest\u001b[39;00m\n\u001b[0;32m---> 19\u001b[0m     blpapi \u001b[38;5;241m=\u001b[39m pytest\u001b[38;5;241m.\u001b[39mimportorskip(\u001b[38;5;124m'\u001b[39m\u001b[38;5;124mblpapi\u001b[39m\u001b[38;5;124m'\u001b[39m)\n\u001b[1;32m     21\u001b[0m \u001b[38;5;28;01mfrom\u001b[39;00m \u001b[38;5;21;01mxbbg\u001b[39;00m\u001b[38;5;21;01m.\u001b[39;00m\u001b[38;5;21;01mio\u001b[39;00m \u001b[38;5;28;01mimport\u001b[39;00m logs\n\u001b[1;32m     23\u001b[0m _CON_SYM_ \u001b[38;5;241m=\u001b[39m \u001b[38;5;124m'\u001b[39m\u001b[38;5;124m_xcon_\u001b[39m\u001b[38;5;124m'\u001b[39m\n",
      "File \u001b[0;32m/opt/anaconda3/lib/python3.12/site-packages/_pytest/outcomes.py:296\u001b[0m, in \u001b[0;36mimportorskip\u001b[0;34m(modname, minversion, reason)\u001b[0m\n\u001b[1;32m    294\u001b[0m         \u001b[38;5;28;01mif\u001b[39;00m reason \u001b[38;5;129;01mis\u001b[39;00m \u001b[38;5;28;01mNone\u001b[39;00m:\n\u001b[1;32m    295\u001b[0m             reason \u001b[38;5;241m=\u001b[39m \u001b[38;5;124mf\u001b[39m\u001b[38;5;124m\"\u001b[39m\u001b[38;5;124mcould not import \u001b[39m\u001b[38;5;132;01m{\u001b[39;00mmodname\u001b[38;5;132;01m!r}\u001b[39;00m\u001b[38;5;124m: \u001b[39m\u001b[38;5;132;01m{\u001b[39;00mexc\u001b[38;5;132;01m}\u001b[39;00m\u001b[38;5;124m\"\u001b[39m\n\u001b[0;32m--> 296\u001b[0m         \u001b[38;5;28;01mraise\u001b[39;00m Skipped(reason, allow_module_level\u001b[38;5;241m=\u001b[39m\u001b[38;5;28;01mTrue\u001b[39;00m) \u001b[38;5;28;01mfrom\u001b[39;00m \u001b[38;5;28;01mNone\u001b[39;00m\n\u001b[1;32m    297\u001b[0m mod \u001b[38;5;241m=\u001b[39m sys\u001b[38;5;241m.\u001b[39mmodules[modname]\n\u001b[1;32m    298\u001b[0m \u001b[38;5;28;01mif\u001b[39;00m minversion \u001b[38;5;129;01mis\u001b[39;00m \u001b[38;5;28;01mNone\u001b[39;00m:\n",
      "\u001b[0;31mSkipped\u001b[0m: could not import 'blpapi': No module named 'blpapi'"
     ]
    }
   ],
   "source": [
    "from xbbg import blp\n",
    "import pandas as pd\n",
    "from datetime import datetime"
   ]
  },
  {
   "cell_type": "code",
   "execution_count": null,
   "metadata": {},
   "outputs": [],
   "source": [
    "def get_option_data(tickers, output_file=\"options_data.csv\"):\n",
    "    \"\"\"\n",
    "    Fetches option chain data including tickers, expiry, strike, type, market data, and Greeks for given tickers.\n",
    "\n",
    "    Parameters:\n",
    "    - tickers: list of str, Bloomberg symbols (e.g., [\"SPY US Equity\", \"NVDA US Equity\", \"VIX Index\"])\n",
    "    - output_file: str, Name of the output CSV file.\n",
    "\n",
    "    Returns:\n",
    "    - DataFrame containing all option data.\n",
    "    \"\"\"\n",
    "\n",
    "    start_date = datetime.today()\n",
    "    cutoff_date = start_date + timedelta(days=90)\n",
    "\n",
    "\n",
    "    all_options = []\n",
    "\n",
    "    for ticker in tickers:\n",
    "        # get all option contracts\n",
    "        option_chain = blp.bds(f\"{ticker} Equity\", \"OPT_CHAIN\")\n",
    "\n",
    "        # continue to next ticker if no option is found\n",
    "        if option_chain.empty:\n",
    "            print(f\"No options found for {ticker}\")\n",
    "            continue\n",
    "\n",
    "        # extract option tickers\n",
    "        option_tickers = option_chain[\"security_description\"].tolist()\n",
    "\n",
    "        # fetch Market Data\n",
    "        fields = [\n",
    "            \"OPT_EXPIRE_DT\",\"OPT_STRIKE_PX\", \"OPT_PUT_CALL\",\n",
    "            \"PX_BID\", \"PX_ASK\", \"PX_MID\", \"PX_LAST\",  # Market prices\n",
    "            \"IVOL_LAST\", \"DELTA_LAST\", \"GAMMA_LAST\", \"VEGA_LAST\", \"THETA_LAST\", \"RHO_LAST\"  # Greeks\n",
    "        ]\n",
    "\n",
    "        # might have to iterate all the option_ticker\n",
    "        option_data = blp.bdp(option_tickers, fields)\n",
    "\n",
    "        if option_data.empty:\n",
    "            print(f\"No market data available for options of {ticker}\")\n",
    "            continue\n",
    "\n",
    "        # format DataFrame\n",
    "        option_data.reset_index(inplace=True)\n",
    "        option_data.rename(columns={\"index\": \"Option_Ticker\"}, inplace=True)\n",
    "\n",
    "        # convert Expiry Date to readable format\n",
    "        option_data[\"OPT_EXPIRE_DT\"] = pd.to_datetime(option_data[\"OPT_EXPIRE_DT\"])\n",
    "\n",
    "        # filter out the options expiring in the next three months\n",
    "        option_data = option_data[\n",
    "            (option_data[\"OPT_EXPIRE_DT\"] >= start_date) & \n",
    "            (option_data[\"OPT_EXPIRE_DT\"] <= cutoff_date)\n",
    "        ]\n",
    "\n",
    "        # store data\n",
    "        all_options.append(option_data)\n",
    "\n",
    "    # combine all options into one DataFrame\n",
    "    if all_options:\n",
    "        final_df = pd.concat(all_options, ignore_index=True)\n",
    "\n",
    "        # save to CSV\n",
    "        final_df.to_csv(output_file, index=False)\n",
    "        print(f\"Option data saved to {output_file}\")\n",
    "\n",
    "        return final_df\n",
    "    else:\n",
    "        print(\"No option data collected.\")\n",
    "        return pd.DataFrame()"
   ]
  },
  {
   "cell_type": "code",
   "execution_count": 4,
   "metadata": {},
   "outputs": [
    {
     "ename": "NameError",
     "evalue": "name 'blp' is not defined",
     "output_type": "error",
     "traceback": [
      "\u001b[0;31m---------------------------------------------------------------------------\u001b[0m",
      "\u001b[0;31mNameError\u001b[0m                                 Traceback (most recent call last)",
      "Cell \u001b[0;32mIn[4], line 3\u001b[0m\n\u001b[1;32m      1\u001b[0m \u001b[38;5;66;03m# Example Usage\u001b[39;00m\n\u001b[1;32m      2\u001b[0m tickers \u001b[38;5;241m=\u001b[39m [\u001b[38;5;124m\"\u001b[39m\u001b[38;5;124mSPY US Equity\u001b[39m\u001b[38;5;124m\"\u001b[39m, \u001b[38;5;124m\"\u001b[39m\u001b[38;5;124mNVDA US Equity\u001b[39m\u001b[38;5;124m\"\u001b[39m, \u001b[38;5;124m\"\u001b[39m\u001b[38;5;124mVIX Index\u001b[39m\u001b[38;5;124m\"\u001b[39m]\n\u001b[0;32m----> 3\u001b[0m options_df \u001b[38;5;241m=\u001b[39m get_option_data(tickers, \u001b[38;5;124m\"\u001b[39m\u001b[38;5;124moptions_data.csv\u001b[39m\u001b[38;5;124m\"\u001b[39m)\n",
      "Cell \u001b[0;32mIn[3], line 17\u001b[0m, in \u001b[0;36mget_option_data\u001b[0;34m(tickers, output_file)\u001b[0m\n\u001b[1;32m     13\u001b[0m all_options \u001b[38;5;241m=\u001b[39m []\n\u001b[1;32m     15\u001b[0m \u001b[38;5;28;01mfor\u001b[39;00m ticker \u001b[38;5;129;01min\u001b[39;00m tickers:\n\u001b[1;32m     16\u001b[0m     \u001b[38;5;66;03m# Get all option contracts\u001b[39;00m\n\u001b[0;32m---> 17\u001b[0m     option_chain \u001b[38;5;241m=\u001b[39m blp\u001b[38;5;241m.\u001b[39mbds(\u001b[38;5;124mf\u001b[39m\u001b[38;5;124m\"\u001b[39m\u001b[38;5;132;01m{\u001b[39;00mticker\u001b[38;5;132;01m}\u001b[39;00m\u001b[38;5;124m Equity\u001b[39m\u001b[38;5;124m\"\u001b[39m, \u001b[38;5;124m\"\u001b[39m\u001b[38;5;124mOPT_CHAIN\u001b[39m\u001b[38;5;124m\"\u001b[39m)\n\u001b[1;32m     19\u001b[0m     \u001b[38;5;28;01mif\u001b[39;00m option_chain\u001b[38;5;241m.\u001b[39mempty:\n\u001b[1;32m     20\u001b[0m         \u001b[38;5;28mprint\u001b[39m(\u001b[38;5;124mf\u001b[39m\u001b[38;5;124m\"\u001b[39m\u001b[38;5;124mNo options found for \u001b[39m\u001b[38;5;132;01m{\u001b[39;00mticker\u001b[38;5;132;01m}\u001b[39;00m\u001b[38;5;124m\"\u001b[39m)\n",
      "\u001b[0;31mNameError\u001b[0m: name 'blp' is not defined"
     ]
    }
   ],
   "source": [
    "# Example Usage\n",
    "tickers = [\"SPY US Equity\", \"NVDA US Equity\", \"VIX Index\"]\n",
    "options_df = get_option_data(tickers, \"options_data.csv\")"
   ]
  }
 ],
 "metadata": {
  "kernelspec": {
   "display_name": "base",
   "language": "python",
   "name": "python3"
  },
  "language_info": {
   "codemirror_mode": {
    "name": "ipython",
    "version": 3
   },
   "file_extension": ".py",
   "mimetype": "text/x-python",
   "name": "python",
   "nbconvert_exporter": "python",
   "pygments_lexer": "ipython3",
   "version": "3.12.7"
  }
 },
 "nbformat": 4,
 "nbformat_minor": 2
}
