{
 "cells": [
  {
   "cell_type": "code",
   "execution_count": 1,
   "metadata": {},
   "outputs": [],
   "source": [
    "import yfinance as yf\n",
    "import pandas as pd\n",
    "from datetime import datetime"
   ]
  },
  {
   "cell_type": "markdown",
   "metadata": {},
   "source": [
    "## Downloading data from Yfinance"
   ]
  },
  {
   "cell_type": "code",
   "execution_count": 41,
   "metadata": {},
   "outputs": [],
   "source": [
    "def download_options_data(tickers):\n",
    "    # Third Friday of next 3 months for equities\n",
    "    expiration_dates_equity = [\"2025-02-21\", \"2025-03-21\", \"2025-04-17\"]\n",
    "    # VIX expiration dates (Wednesdays before equity expirations)\n",
    "    expiration_dates_vix = [\"2025-02-19\", \"2025-03-18\", \"2025-04-16\"]\n",
    "\n",
    "    all_options = []\n",
    "\n",
    "    # Get today's date for time to maturity calculation\n",
    "    today = datetime.today()\n",
    "\n",
    "    fed_funds = yf.Ticker(\"^IRX\").history(period=\"1d\")['Close'].iloc[-1]  \n",
    "\n",
    "    for ticker in tickers:\n",
    "        expiration_dates = expiration_dates_vix if ticker == \"^VIX\" else expiration_dates_equity\n",
    "        try:\n",
    "            # Fetch most recent 15-minute interval closing price\n",
    "            spot_price = yf.Ticker(ticker).history(period=\"1d\", interval=\"15m\")[\"Close\"].iloc[-1]\n",
    "        except Exception as e:\n",
    "            print(f\"Error fetching 15-min close price for {ticker}: {e}\")\n",
    "            spot_price = None  # Assign None if price fetch fails\n",
    "\n",
    "        \n",
    "        for exp_date in expiration_dates:\n",
    "            try:\n",
    "                # Convert expiration date to datetime\n",
    "                exp_datetime = datetime.strptime(exp_date, \"%Y-%m-%d\")\n",
    "                time_to_maturity = (exp_datetime - today).days / 365.0  # Convert to years\n",
    "\n",
    "                option_chain = yf.Ticker(ticker).option_chain(exp_date)\n",
    "                calls = option_chain.calls\n",
    "                puts = option_chain.puts\n",
    "\n",
    "                # Add identifying columns\n",
    "                calls[\"ticker\"] = ticker\n",
    "                calls[\"expiration\"] = exp_date\n",
    "                calls[\"optionType\"] = \"Call\"\n",
    "                calls[\"timeToMaturity\"] = round(time_to_maturity, 6)\n",
    "                calls[\"spotPrice\"] = round(spot_price,6)\n",
    "\n",
    "                puts[\"ticker\"] = ticker\n",
    "                puts[\"expiration\"] = exp_date\n",
    "                puts[\"optionType\"] = \"Put\"\n",
    "                puts[\"timeToMaturity\"] = round(time_to_maturity, 6)\n",
    "                puts[\"spotPrice\"] = round(spot_price,6)\n",
    "\n",
    "                # Combine calls & puts\n",
    "                all_options.append(calls)\n",
    "                all_options.append(puts)\n",
    "\n",
    "            except Exception as e:\n",
    "                print(f\"Error fetching options for {ticker} ({exp_date}): {e}\")\n",
    "\n",
    "    # Combine all data into a single DataFrame\n",
    "    if not all_options:\n",
    "        return None\n",
    "\n",
    "    options_data = pd.concat(all_options, ignore_index=True)\n",
    "    options_data[\"interestRate\"] = round(fed_funds, 6)\n",
    "\n",
    "    # Rearrange columns (adjust based on what yf.Ticker.option_chain provides)\n",
    "    desired_columns = [\"ticker\", \"expiration\", \"timeToMaturity\", \"strike\", \"optionType\",\n",
    "                       \"lastPrice\", \"bid\", \"ask\", \"volume\", \"openInterest\", \"impliedVolatility\", \"inTheMoney\", \"spotPrice\", \"interestRate\"]\n",
    "    options_data = options_data[desired_columns]\n",
    "\n",
    "    return options_data"
   ]
  },
  {
   "cell_type": "code",
   "execution_count": 47,
   "metadata": {},
   "outputs": [],
   "source": [
    "tickers = [\"NVDA\", \"SPY\", \"^VIX\"]\n",
    "options_data = download_options_data(tickers)"
   ]
  },
  {
   "cell_type": "markdown",
   "metadata": {},
   "source": [
    "### Save the data in the csv"
   ]
  },
  {
   "cell_type": "code",
   "execution_count": null,
   "metadata": {},
   "outputs": [],
   "source": [
    "options_data.to_csv(\"options_data.csv\")"
   ]
  },
  {
   "cell_type": "markdown",
   "metadata": {},
   "source": [
    "## Downloading options using Bloomberg API"
   ]
  },
  {
   "cell_type": "code",
   "execution_count": null,
   "metadata": {},
   "outputs": [],
   "source": [
    "def get_option_data(tickers, output_file=\"options_data.csv\"):\n",
    "    \"\"\"\n",
    "    Fetches option chain data including tickers, expiry, strike, type, market data, and Greeks for given tickers.\n",
    "\n",
    "    Parameters:\n",
    "    - tickers: list of str, Bloomberg symbols (e.g., [\"SPY US Equity\", \"NVDA US Equity\", \"VIX Index\"])\n",
    "    - output_file: str, Name of the output CSV file.\n",
    "\n",
    "    Returns:\n",
    "    - DataFrame containing all option data.\n",
    "    \"\"\"\n",
    "\n",
    "    start_date = datetime.today()\n",
    "    cutoff_date = start_date + timedelta(days=90)\n",
    "\n",
    "\n",
    "    all_options = []\n",
    "\n",
    "    for ticker in tickers:\n",
    "        # get all option contracts\n",
    "        option_chain = blp.bds(f\"{ticker} Equity\", \"OPT_CHAIN\")\n",
    "\n",
    "        # continue to next ticker if no option is found\n",
    "        if option_chain.empty:\n",
    "            print(f\"No options found for {ticker}\")\n",
    "            continue\n",
    "\n",
    "        # extract option tickers\n",
    "        option_tickers = option_chain[\"security_description\"].tolist()\n",
    "\n",
    "        # fetch Market Data\n",
    "        fields = [\n",
    "            \"OPT_EXPIRE_DT\",\"OPT_STRIKE_PX\", \"OPT_PUT_CALL\",\n",
    "            \"PX_BID\", \"PX_ASK\", \"PX_MID\", \"PX_LAST\",  # Market prices\n",
    "            \"IVOL_LAST\", \"DELTA_LAST\", \"GAMMA_LAST\", \"VEGA_LAST\", \"THETA_LAST\", \"RHO_LAST\"  # Greeks\n",
    "        ]\n",
    "\n",
    "        # might have to iterate all the option_ticker\n",
    "        option_data = blp.bdp(option_tickers, fields)\n",
    "\n",
    "        if option_data.empty:\n",
    "            print(f\"No market data available for options of {ticker}\")\n",
    "            continue\n",
    "\n",
    "        # format DataFrame\n",
    "        option_data.reset_index(inplace=True)\n",
    "        option_data.rename(columns={\"index\": \"Option_Ticker\"}, inplace=True)\n",
    "\n",
    "        # convert Expiry Date to readable format\n",
    "        option_data[\"OPT_EXPIRE_DT\"] = pd.to_datetime(option_data[\"OPT_EXPIRE_DT\"])\n",
    "\n",
    "        # filter out the options expiring in the next three months\n",
    "        option_data = option_data[\n",
    "            (option_data[\"OPT_EXPIRE_DT\"] >= start_date) & \n",
    "            (option_data[\"OPT_EXPIRE_DT\"] <= cutoff_date)\n",
    "        ]\n",
    "\n",
    "        # store data\n",
    "        all_options.append(option_data)\n",
    "\n",
    "    # combine all options into one DataFrame\n",
    "    if all_options:\n",
    "        final_df = pd.concat(all_options, ignore_index=True)\n",
    "\n",
    "        # save to CSV\n",
    "        final_df.to_csv(output_file, index=False)\n",
    "        print(f\"Option data saved to {output_file}\")\n",
    "\n",
    "        return final_df\n",
    "    else:\n",
    "        print(\"No option data collected.\")\n",
    "        return pd.DataFrame()"
   ]
  },
  {
   "cell_type": "code",
   "execution_count": null,
   "metadata": {},
   "outputs": [
    {
     "ename": "NameError",
     "evalue": "name 'blp' is not defined",
     "output_type": "error",
     "traceback": [
      "\u001b[0;31m---------------------------------------------------------------------------\u001b[0m",
      "\u001b[0;31mNameError\u001b[0m                                 Traceback (most recent call last)",
      "Cell \u001b[0;32mIn[4], line 3\u001b[0m\n\u001b[1;32m      1\u001b[0m \u001b[38;5;66;03m# Example Usage\u001b[39;00m\n\u001b[1;32m      2\u001b[0m tickers \u001b[38;5;241m=\u001b[39m [\u001b[38;5;124m\"\u001b[39m\u001b[38;5;124mSPY US Equity\u001b[39m\u001b[38;5;124m\"\u001b[39m, \u001b[38;5;124m\"\u001b[39m\u001b[38;5;124mNVDA US Equity\u001b[39m\u001b[38;5;124m\"\u001b[39m, \u001b[38;5;124m\"\u001b[39m\u001b[38;5;124mVIX Index\u001b[39m\u001b[38;5;124m\"\u001b[39m]\n\u001b[0;32m----> 3\u001b[0m options_df \u001b[38;5;241m=\u001b[39m get_option_data(tickers, \u001b[38;5;124m\"\u001b[39m\u001b[38;5;124moptions_data.csv\u001b[39m\u001b[38;5;124m\"\u001b[39m)\n",
      "Cell \u001b[0;32mIn[3], line 17\u001b[0m, in \u001b[0;36mget_option_data\u001b[0;34m(tickers, output_file)\u001b[0m\n\u001b[1;32m     13\u001b[0m all_options \u001b[38;5;241m=\u001b[39m []\n\u001b[1;32m     15\u001b[0m \u001b[38;5;28;01mfor\u001b[39;00m ticker \u001b[38;5;129;01min\u001b[39;00m tickers:\n\u001b[1;32m     16\u001b[0m     \u001b[38;5;66;03m# Get all option contracts\u001b[39;00m\n\u001b[0;32m---> 17\u001b[0m     option_chain \u001b[38;5;241m=\u001b[39m blp\u001b[38;5;241m.\u001b[39mbds(\u001b[38;5;124mf\u001b[39m\u001b[38;5;124m\"\u001b[39m\u001b[38;5;132;01m{\u001b[39;00mticker\u001b[38;5;132;01m}\u001b[39;00m\u001b[38;5;124m Equity\u001b[39m\u001b[38;5;124m\"\u001b[39m, \u001b[38;5;124m\"\u001b[39m\u001b[38;5;124mOPT_CHAIN\u001b[39m\u001b[38;5;124m\"\u001b[39m)\n\u001b[1;32m     19\u001b[0m     \u001b[38;5;28;01mif\u001b[39;00m option_chain\u001b[38;5;241m.\u001b[39mempty:\n\u001b[1;32m     20\u001b[0m         \u001b[38;5;28mprint\u001b[39m(\u001b[38;5;124mf\u001b[39m\u001b[38;5;124m\"\u001b[39m\u001b[38;5;124mNo options found for \u001b[39m\u001b[38;5;132;01m{\u001b[39;00mticker\u001b[38;5;132;01m}\u001b[39;00m\u001b[38;5;124m\"\u001b[39m)\n",
      "\u001b[0;31mNameError\u001b[0m: name 'blp' is not defined"
     ]
    }
   ],
   "source": [
    "tickers = [\"SPY US Equity\", \"NVDA US Equity\", \"VIX Index\"]\n",
    "options_df = get_option_data(tickers, \"options_data.csv\")"
   ]
  }
 ],
 "metadata": {
  "kernelspec": {
   "display_name": "base",
   "language": "python",
   "name": "python3"
  },
  "language_info": {
   "codemirror_mode": {
    "name": "ipython",
    "version": 3
   },
   "file_extension": ".py",
   "mimetype": "text/x-python",
   "name": "python",
   "nbconvert_exporter": "python",
   "pygments_lexer": "ipython3",
   "version": "3.12.7"
  }
 },
 "nbformat": 4,
 "nbformat_minor": 2
}
