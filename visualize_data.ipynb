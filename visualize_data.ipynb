{
 "cells": [
  {
   "cell_type": "markdown",
   "metadata": {},
   "source": [
    "## Visualizing the results using tables and plots"
   ]
  },
  {
   "cell_type": "code",
   "execution_count": 2,
   "metadata": {},
   "outputs": [],
   "source": [
    "import pandas as pd\n",
    "import numpy as np\n",
    "import matplotlib as plt"
   ]
  },
  {
   "cell_type": "code",
   "execution_count": 4,
   "metadata": {},
   "outputs": [],
   "source": [
    "nvda_data1_df = pd.read_csv(\"NVDA_outputData1.csv\")\n",
    "spy_data1_df = pd.read_csv(\"SPY_outputData1.csv\")\n",
    "vix_data1_df = pd.read_csv(\"^VIX_outputData1.csv\")"
   ]
  },
  {
   "cell_type": "code",
   "execution_count": 18,
   "metadata": {},
   "outputs": [],
   "source": [
    "df= pd.read_csv(\"options_data1.csv\")\n",
    "nvda_data1_spot = df.query('ticker == \"NVDA\"').iloc[1,-2]\n",
    "spy_data1_spot = df.query('ticker == \"SPY\"').iloc[1,-2]"
   ]
  },
  {
   "cell_type": "code",
   "execution_count": 22,
   "metadata": {},
   "outputs": [
    {
     "data": {
      "text/plain": [
       "131.694397"
      ]
     },
     "execution_count": 22,
     "metadata": {},
     "output_type": "execute_result"
    }
   ],
   "source": [
    "nvda_data1_spot\n"
   ]
  },
  {
   "cell_type": "code",
   "execution_count": 20,
   "metadata": {},
   "outputs": [],
   "source": [
    "nvda_strikes = nvda_data1_df[\"Strike\"].values\n",
    "# Find index of the closest strike\n",
    "closest_index = np.argmin(np.abs(nvda_strikes - nvda_data1_spot))\n",
    "\n",
    "# Get the closest strike using the index\n",
    "closest_strike = nvda_strikes[closest_index]"
   ]
  },
  {
   "cell_type": "code",
   "execution_count": 36,
   "metadata": {},
   "outputs": [],
   "source": [
    "#creating a empty df\n",
    "nvda_iv_table = pd.DataFrame()\n",
    "for expiration in nvda_data1_df[\"Expiration\"].unique():\n",
    "    expiration_df= nvda_data1_df[nvda_data1_df[\"Expiration\"] == expiration]\n",
    "    nvda_strikes = expiration_df[\"Strike\"].values\n",
    "    # Find index of the closest strike\n",
    "    closest_index = np.argmin(np.abs(nvda_strikes - nvda_data1_spot))\n",
    "\n",
    "    # Get the closest strike using the index\n",
    "    closest_strike = nvda_strikes[closest_index]\n",
    "    for index, row in expiration_df.iterrows():\n",
    "        if row.iloc[3] == closest_strike:\n",
    "        # filter only necessary columns from the row and insert it into df\n",
    "            desired_columns = [ \"Expiration\", \"OptionType\", \"Strike\", \"BisectionIV\", \"NewtonIV\", \"ImpliedVolatility\"]\n",
    "            nvda_iv_table = pd.concat([nvda_iv_table, pd.DataFrame([row[desired_columns]])], ignore_index=True)\n"
   ]
  },
  {
   "cell_type": "code",
   "execution_count": 37,
   "metadata": {},
   "outputs": [
    {
     "data": {
      "text/html": [
       "<div>\n",
       "<style scoped>\n",
       "    .dataframe tbody tr th:only-of-type {\n",
       "        vertical-align: middle;\n",
       "    }\n",
       "\n",
       "    .dataframe tbody tr th {\n",
       "        vertical-align: top;\n",
       "    }\n",
       "\n",
       "    .dataframe thead th {\n",
       "        text-align: right;\n",
       "    }\n",
       "</style>\n",
       "<table border=\"1\" class=\"dataframe\">\n",
       "  <thead>\n",
       "    <tr style=\"text-align: right;\">\n",
       "      <th></th>\n",
       "      <th>Expiration</th>\n",
       "      <th>OptionType</th>\n",
       "      <th>Strike</th>\n",
       "      <th>BisectionIV</th>\n",
       "      <th>NewtonIV</th>\n",
       "      <th>ImpliedVolatility</th>\n",
       "    </tr>\n",
       "  </thead>\n",
       "  <tbody>\n",
       "    <tr>\n",
       "      <th>0</th>\n",
       "      <td>2025-02-21</td>\n",
       "      <td>Call</td>\n",
       "      <td>132.0</td>\n",
       "      <td>0.458217</td>\n",
       "      <td>0.458217</td>\n",
       "      <td>0.419684</td>\n",
       "    </tr>\n",
       "    <tr>\n",
       "      <th>1</th>\n",
       "      <td>2025-02-21</td>\n",
       "      <td>Put</td>\n",
       "      <td>132.0</td>\n",
       "      <td>0.511800</td>\n",
       "      <td>0.511800</td>\n",
       "      <td>0.453130</td>\n",
       "    </tr>\n",
       "    <tr>\n",
       "      <th>2</th>\n",
       "      <td>2025-03-21</td>\n",
       "      <td>Call</td>\n",
       "      <td>132.0</td>\n",
       "      <td>0.586375</td>\n",
       "      <td>0.586375</td>\n",
       "      <td>0.585942</td>\n",
       "    </tr>\n",
       "    <tr>\n",
       "      <th>3</th>\n",
       "      <td>2025-03-21</td>\n",
       "      <td>Put</td>\n",
       "      <td>132.0</td>\n",
       "      <td>0.611904</td>\n",
       "      <td>0.611904</td>\n",
       "      <td>0.578007</td>\n",
       "    </tr>\n",
       "    <tr>\n",
       "      <th>4</th>\n",
       "      <td>2025-04-17</td>\n",
       "      <td>Call</td>\n",
       "      <td>130.0</td>\n",
       "      <td>0.532450</td>\n",
       "      <td>0.532450</td>\n",
       "      <td>0.545293</td>\n",
       "    </tr>\n",
       "    <tr>\n",
       "      <th>5</th>\n",
       "      <td>2025-04-17</td>\n",
       "      <td>Put</td>\n",
       "      <td>130.0</td>\n",
       "      <td>0.548353</td>\n",
       "      <td>0.548353</td>\n",
       "      <td>0.517461</td>\n",
       "    </tr>\n",
       "  </tbody>\n",
       "</table>\n",
       "</div>"
      ],
      "text/plain": [
       "   Expiration OptionType  Strike  BisectionIV  NewtonIV  ImpliedVolatility\n",
       "0  2025-02-21       Call   132.0     0.458217  0.458217           0.419684\n",
       "1  2025-02-21        Put   132.0     0.511800  0.511800           0.453130\n",
       "2  2025-03-21       Call   132.0     0.586375  0.586375           0.585942\n",
       "3  2025-03-21        Put   132.0     0.611904  0.611904           0.578007\n",
       "4  2025-04-17       Call   130.0     0.532450  0.532450           0.545293\n",
       "5  2025-04-17        Put   130.0     0.548353  0.548353           0.517461"
      ]
     },
     "execution_count": 37,
     "metadata": {},
     "output_type": "execute_result"
    }
   ],
   "source": [
    "nvda_iv_table"
   ]
  }
 ],
 "metadata": {
  "kernelspec": {
   "display_name": "base",
   "language": "python",
   "name": "python3"
  },
  "language_info": {
   "codemirror_mode": {
    "name": "ipython",
    "version": 3
   },
   "file_extension": ".py",
   "mimetype": "text/x-python",
   "name": "python",
   "nbconvert_exporter": "python",
   "pygments_lexer": "ipython3",
   "version": "3.12.7"
  }
 },
 "nbformat": 4,
 "nbformat_minor": 2
}
